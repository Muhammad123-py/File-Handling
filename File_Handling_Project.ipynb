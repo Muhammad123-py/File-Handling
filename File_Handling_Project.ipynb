{
 "cells": [
  {
   "cell_type": "code",
   "execution_count": 2,
   "id": "5db58a79",
   "metadata": {},
   "outputs": [
    {
     "data": {
      "text/plain": [
       "'Python is a high level Programming Language with Quite easy syntax\\nPython is a open source programming language which is easier to learn than otehr programmming languages\\nPython as a programmming language finds it\\'s uses in machine learning, data science, A.I and in other fields.\\nPython is an object oriented programming language developed by \"Guido Van Rossum\"\\n'"
      ]
     },
     "execution_count": 2,
     "metadata": {},
     "output_type": "execute_result"
    }
   ],
   "source": [
    "text_file = open(\"python.txt\" , \"r\")\n",
    "text_file.read()"
   ]
  },
  {
   "cell_type": "markdown",
   "id": "288cc301",
   "metadata": {},
   "source": [
    "text_file.close()"
   ]
  },
  {
   "cell_type": "code",
   "execution_count": 20,
   "id": "9eef313b",
   "metadata": {},
   "outputs": [
    {
     "name": "stdout",
     "output_type": "stream",
     "text": [
      "Enter number of lines: 3\n",
      "Python is a high level Programming Language with Quite easy syntax\n",
      "\n",
      "Python is a open source programming language which is easier to learn than otehr programmming languages\n",
      "\n",
      "Python as a programmming language finds it's uses in machine learning, data science, A.I and in other fields.\n",
      "\n"
     ]
    }
   ],
   "source": [
    "number = int(input(\"Enter number of lines: \"))\n",
    "text = open(\"python.txt\" , \"r\")\n",
    "for i in range(number):\n",
    "    print(text.readline())"
   ]
  },
  {
   "cell_type": "code",
   "execution_count": 21,
   "id": "277bb01c",
   "metadata": {},
   "outputs": [],
   "source": [
    "text.close()"
   ]
  },
  {
   "cell_type": "code",
   "execution_count": 24,
   "id": "80b92712",
   "metadata": {},
   "outputs": [
    {
     "name": "stdout",
     "output_type": "stream",
     "text": [
      "Enter number of lines: 2\n",
      "Python as a programmming language finds it's uses in machine learning, data science, A.I and in other fields.\n",
      "\n",
      "Python is an object oriented programming language developed by \"Guido Van Rossum\"\n",
      "\n"
     ]
    }
   ],
   "source": [
    "number = int(input(\"Enter number of lines: \"))\n",
    "file = open(\"python.txt\" , \"r\")\n",
    "for i in (file.readlines()[-number:]):\n",
    "    print(i)"
   ]
  },
  {
   "cell_type": "code",
   "execution_count": 25,
   "id": "6441409b",
   "metadata": {},
   "outputs": [],
   "source": [
    "file.close()"
   ]
  },
  {
   "cell_type": "code",
   "execution_count": 36,
   "id": "9e52e689",
   "metadata": {},
   "outputs": [
    {
     "name": "stdout",
     "output_type": "stream",
     "text": [
      "57\n"
     ]
    }
   ],
   "source": [
    "words = 0\n",
    "files = open(\"python.txt\", \"r\")\n",
    "data =files.read()\n",
    "lines = data.split()\n",
    "words = words + len(lines)\n",
    "print(words)"
   ]
  },
  {
   "cell_type": "code",
   "execution_count": 37,
   "id": "e4ad573a",
   "metadata": {},
   "outputs": [],
   "source": [
    "files.close()"
   ]
  }
 ],
 "metadata": {
  "kernelspec": {
   "display_name": "Python 3 (ipykernel)",
   "language": "python",
   "name": "python3"
  },
  "language_info": {
   "codemirror_mode": {
    "name": "ipython",
    "version": 3
   },
   "file_extension": ".py",
   "mimetype": "text/x-python",
   "name": "python",
   "nbconvert_exporter": "python",
   "pygments_lexer": "ipython3",
   "version": "3.9.13"
  }
 },
 "nbformat": 4,
 "nbformat_minor": 5
}
